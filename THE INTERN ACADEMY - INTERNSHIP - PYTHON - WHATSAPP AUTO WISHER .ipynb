{
 "cells": [
  {
   "cell_type": "markdown",
   "id": "1afc88e2",
   "metadata": {},
   "source": [
    "# KAVIYA V\n",
    "@THE INTERN ACADEMY\n",
    "\n",
    "20°C MONSOON INTERNSHIP PROGRAM\n",
    "\n",
    "TEAM NAME: CHALLENGERS\n",
    "\n",
    "PYTHON PROJECTS\n",
    "\n",
    "TASK - 2 - WHATSAPP AUTO WISHER"
   ]
  },
  {
   "cell_type": "code",
   "execution_count": 1,
   "id": "6ca360e8",
   "metadata": {},
   "outputs": [
    {
     "name": "stdout",
     "output_type": "stream",
     "text": [
      "In 49 seconds web.whatsapp.com will open and after 20 seconds message will be delivered\n"
     ]
    }
   ],
   "source": [
    "import pywhatkit\n",
    "pywhatkit.sendwhatmsg('+91 83446 94064', 'Happy Birthday Amma', 18,4)"
   ]
  },
  {
   "cell_type": "code",
   "execution_count": null,
   "id": "8e8018d8",
   "metadata": {},
   "outputs": [],
   "source": []
  }
 ],
 "metadata": {
  "kernelspec": {
   "display_name": "Python 3",
   "language": "python",
   "name": "python3"
  },
  "language_info": {
   "codemirror_mode": {
    "name": "ipython",
    "version": 3
   },
   "file_extension": ".py",
   "mimetype": "text/x-python",
   "name": "python",
   "nbconvert_exporter": "python",
   "pygments_lexer": "ipython3",
   "version": "3.9.4"
  }
 },
 "nbformat": 4,
 "nbformat_minor": 5
}
